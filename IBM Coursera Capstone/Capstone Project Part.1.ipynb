{
 "cells": [
  {
   "cell_type": "markdown",
   "metadata": {},
   "source": [
    "# Capstone Project Part.1\n",
    "\n",
    "# Introduction\n",
    "This projec is used to compare the average house prices in different districts between NYC and Torono and analyze the stores features importance. For example, the coefficient of park numbers is higher than the restaurants.  \n",
    "I'll try to use the house price predictor in Toronto's house prices.\n",
    "\n",
    "# Business Problem\n",
    "In my hypothesis, I assume that the districts have similary stores ratio like restaurant, phamarcy, park and so on, will have the higher house prices in the NYC or Toronto. So, these districts have similary stores ratio may have some correlation based on the number of local stores.\n",
    "I hope this algorithm can predict the Toronto's house price based on the NYC features coefficient. The result may represent the prices is higher than condition in NYC or lower in NYC.\n"
   ]
  },
  {
   "cell_type": "markdown",
   "metadata": {},
   "source": [
    "# Step:\n",
    "First, I will use these stores number around the district as the features and make some clustering to get the similar districts.\n",
    "\n",
    "Second, these cluster results will be distribute to different groups in NYC for prices predict by regression algorithm in SKlearn and see the features importance.\n",
    "\n",
    "In the end, I'll try to use these fitting regression algorithm the predict the Toronto's houses pricing.\n",
    "These pricing may have some difference between the GDP. I'll try to include the GDP to analyze the correlation.\n"
   ]
  },
  {
   "cell_type": "code",
   "execution_count": 5,
   "metadata": {},
   "outputs": [
    {
     "name": "stdout",
     "output_type": "stream",
     "text": [
      "^C\n",
      "Collecting package metadata: ...working... done\n",
      "Solving environment: ...working... \n",
      "The environment is inconsistent, please check the package plan carefully\n",
      "The following packages are causing the inconsistency:\n",
      "\n",
      "  - defaults/win-64::anaconda==2018.12=py37_0\n",
      "  - defaults/win-64::ipywidgets==7.4.2=py37_0\n",
      "  - defaults/win-64::jupyter==1.0.0=py37_7\n",
      "  - defaults/win-64::jupyterlab==0.35.3=py37_0\n",
      "  - defaults/win-64::jupyterlab_server==0.2.0=py37_0\n",
      "  - defaults/win-64::nbconvert==5.4.0=py37_1\n",
      "  - defaults/win-64::notebook==5.7.4=py37_0\n",
      "  - defaults/win-64::spyder==3.3.2=py37_0\n",
      "  - defaults/win-64::widgetsnbextension==3.4.2=py37_0\n",
      "  - defaults/win-64::_ipyw_jlab_nb_ext_conf==0.1.0=py37_0\n",
      "done\n",
      "\n",
      "# All requested packages already installed.\n",
      "\n",
      "Folium installed\n",
      "Libraries imported.\n"
     ]
    }
   ],
   "source": [
    "import requests # library to handle requests\n",
    "import pandas as pd # library for data analsysis\n",
    "import numpy as np # library to handle data in a vectorized manner\n",
    "import random # library for random number generation\n",
    "\n",
    "#!conda install -c conda-forge geopy --yes \n",
    "from geopy.geocoders import Nominatim # module to convert an address into latitude and longitude values\n",
    "\n",
    "# libraries for displaying images\n",
    "from IPython.display import Image \n",
    "from IPython.core.display import HTML \n",
    "    \n",
    "# tranforming json file into a pandas dataframe library\n",
    "from pandas.io.json import json_normalize\n",
    "\n",
    "#!conda install -c conda-forge folium=0.5.0 --yes\n",
    "import folium # plotting library\n",
    "\n",
    "print('Folium installed')\n",
    "print('Libraries imported.')\n",
    "\n",
    "TorontoLocData=pd.read_csv(\"toronto_loc.csv\")"
   ]
  },
  {
   "attachments": {},
   "cell_type": "markdown",
   "metadata": {},
   "source": [
    "# Raw data I need.\n"
   ]
  },
  {
   "cell_type": "code",
   "execution_count": 4,
   "metadata": {},
   "outputs": [
    {
     "name": "stdout",
     "output_type": "stream",
     "text": [
      "Your credentails:\n",
      "CLIENT_ID: ZSAAQTHAJNFRQUIQRQVQCTQ1GJLTB3HX1HBDUNA24ZSXZIOZ\n",
      "CLIENT_SECRET:25UDBWH04RTLXEIEWNJGVCSSOJS0INTCNJIDOFZAZHMOOIVU\n"
     ]
    },
    {
     "ename": "NameError",
     "evalue": "name 'latitude' is not defined",
     "output_type": "error",
     "traceback": [
      "\u001b[1;31m---------------------------------------------------------------------------\u001b[0m",
      "\u001b[1;31mNameError\u001b[0m                                 Traceback (most recent call last)",
      "\u001b[1;32m<ipython-input-4-ff260a3c5e03>\u001b[0m in \u001b[0;36m<module>\u001b[1;34m\u001b[0m\n\u001b[0;32m     10\u001b[0m \u001b[0mradius\u001b[0m \u001b[1;33m=\u001b[0m \u001b[1;36m500\u001b[0m\u001b[1;33m\u001b[0m\u001b[1;33m\u001b[0m\u001b[0m\n\u001b[0;32m     11\u001b[0m \u001b[1;33m\u001b[0m\u001b[0m\n\u001b[1;32m---> 12\u001b[1;33m \u001b[0murl\u001b[0m \u001b[1;33m=\u001b[0m \u001b[1;34m'https://api.foursquare.com/v2/venues/search?client_id={}&client_secret={}&ll={},{}&v={}&query={}&radius={}&limit={}'\u001b[0m\u001b[1;33m.\u001b[0m\u001b[0mformat\u001b[0m\u001b[1;33m(\u001b[0m\u001b[0mCLIENT_ID\u001b[0m\u001b[1;33m,\u001b[0m \u001b[0mCLIENT_SECRET\u001b[0m\u001b[1;33m,\u001b[0m \u001b[0mlatitude\u001b[0m\u001b[1;33m,\u001b[0m \u001b[0mlongitude\u001b[0m\u001b[1;33m,\u001b[0m \u001b[0mVERSION\u001b[0m\u001b[1;33m,\u001b[0m \u001b[0msearch_query\u001b[0m\u001b[1;33m,\u001b[0m \u001b[0mradius\u001b[0m\u001b[1;33m,\u001b[0m \u001b[0mLIMIT\u001b[0m\u001b[1;33m)\u001b[0m\u001b[1;33m\u001b[0m\u001b[1;33m\u001b[0m\u001b[0m\n\u001b[0m\u001b[0;32m     13\u001b[0m \u001b[0murl\u001b[0m\u001b[1;33m\u001b[0m\u001b[1;33m\u001b[0m\u001b[0m\n",
      "\u001b[1;31mNameError\u001b[0m: name 'latitude' is not defined"
     ]
    }
   ],
   "source": []
  }
 ],
 "metadata": {
  "kernelspec": {
   "display_name": "Python 3",
   "language": "python",
   "name": "python3"
  },
  "language_info": {
   "codemirror_mode": {
    "name": "ipython",
    "version": 3
   },
   "file_extension": ".py",
   "mimetype": "text/x-python",
   "name": "python",
   "nbconvert_exporter": "python",
   "pygments_lexer": "ipython3",
   "version": "3.6.8"
  }
 },
 "nbformat": 4,
 "nbformat_minor": 2
}
